{
  "nbformat": 4,
  "nbformat_minor": 0,
  "metadata": {
    "colab": {
      "provenance": [],
      "authorship_tag": "ABX9TyOdxbN4JXlmhRoJvCI78fjr",
      "include_colab_link": true
    },
    "kernelspec": {
      "name": "python3",
      "display_name": "Python 3"
    },
    "language_info": {
      "name": "python"
    }
  },
  "cells": [
    {
      "cell_type": "markdown",
      "metadata": {
        "id": "view-in-github",
        "colab_type": "text"
      },
      "source": [
        "<a href=\"https://colab.research.google.com/github/arafatro/Python-Bachelor/blob/main/Practices/SecondLecture.ipynb\" target=\"_parent\"><img src=\"https://colab.research.google.com/assets/colab-badge.svg\" alt=\"Open In Colab\"/></a>"
      ]
    },
    {
      "cell_type": "markdown",
      "source": [
        "# Part 1: Python Fundamentals (Syntax, Semantics, and Runtime)\n",
        "This section covers the basic building blocks of Python. The code can be run directly in a Python interpreter or saved as a .py file and executed."
      ],
      "metadata": {
        "id": "h0aSK_VUCakS"
      }
    },
    {
      "cell_type": "markdown",
      "source": [
        "## 1. Hello, World! - Basic Output\n",
        "This is the traditional first program. The print() function displays information to the console. This demonstrates the basic syntax for calling a function and using a string literal."
      ],
      "metadata": {
        "id": "TgxoI-weA9lb"
      }
    },
    {
      "cell_type": "code",
      "execution_count": 1,
      "metadata": {
        "colab": {
          "base_uri": "https://localhost:8080/"
        },
        "id": "LPl4k9eZA6E6",
        "outputId": "88d53365-060b-4281-a95d-78c27389a034"
      },
      "outputs": [
        {
          "output_type": "stream",
          "name": "stdout",
          "text": [
            "Hello, World!\n"
          ]
        }
      ],
      "source": [
        "# The print() function is a built-in function that outputs text to the console.\n",
        "# Text enclosed in quotes is called a string.\n",
        "print(\"Hello, World!\")"
      ]
    },
    {
      "cell_type": "markdown",
      "source": [
        "## 2. Variables and Data Types\n",
        "Variables are used to store data. Python is dynamically typed, meaning you don't need to declare the data type; the interpreter figures it out automatically."
      ],
      "metadata": {
        "id": "5yCzU-18BFeV"
      }
    },
    {
      "cell_type": "code",
      "source": [
        "# A variable is a name that refers to a value.\n",
        "# The '=' sign is the assignment operator.\n",
        "\n",
        "# String (str): Textual data\n",
        "student_name = \"Alex\"\n",
        "\n",
        "# Integer (int): Whole numbers\n",
        "age = 20\n",
        "\n",
        "# Float (float): Numbers with decimal points\n",
        "grade_point_average = 3.7\n",
        "\n",
        "# Boolean (bool): Represents True or False\n",
        "is_enrolled = True\n",
        "\n",
        "# Using an f-string to print variables in a formatted way.\n",
        "# The 'f' before the string allows you to embed variable values directly.\n",
        "print(f\"{student_name} is {age} years old and has a GPA of {grade_point_average}.\")\n",
        "print(f\"Is enrolled: {is_enrolled}\")"
      ],
      "metadata": {
        "colab": {
          "base_uri": "https://localhost:8080/"
        },
        "id": "wBSWDfS0BHe9",
        "outputId": "b03d12fa-1466-4b00-9d74-a573ddfe2763"
      },
      "execution_count": 2,
      "outputs": [
        {
          "output_type": "stream",
          "name": "stdout",
          "text": [
            "Alex is 20 years old and has a GPA of 3.7.\n",
            "Is enrolled: True\n"
          ]
        }
      ]
    },
    {
      "cell_type": "markdown",
      "source": [
        "## 3. User Input and Type Casting\n",
        "Programs are interactive. The input() function gets data from the user. Since input() always returns a string, we often need to convert it to another type, like an integer, using type casting."
      ],
      "metadata": {
        "id": "WUyy7v2QBM8U"
      }
    },
    {
      "cell_type": "code",
      "source": [
        "# The input() function prompts the user and reads a line of text.\n",
        "name = input(\"Please enter your name: \")\n",
        "\n",
        "# input() always returns a string, so we must cast it to an integer to do math.\n",
        "year_born_str = input(\"What year were you born? \")\n",
        "year_born = int(year_born_str) # Casting string to integer\n",
        "\n",
        "current_year = 2025\n",
        "calculated_age = current_year - year_born\n",
        "\n",
        "print(f\"Hello, {name}! You are approximately {calculated_age} years old.\")"
      ],
      "metadata": {
        "colab": {
          "base_uri": "https://localhost:8080/"
        },
        "id": "D7sgA4Y4BMkj",
        "outputId": "70f71f8f-7260-487e-9ee2-2c136dacc083"
      },
      "execution_count": 3,
      "outputs": [
        {
          "output_type": "stream",
          "name": "stdout",
          "text": [
            "Please enter your name: Arafat\n",
            "What year were you born? 1900\n",
            "Hello, Arafat! You are approximately 125 years old.\n"
          ]
        }
      ]
    },
    {
      "cell_type": "markdown",
      "source": [
        "## 4. Conditional Logic (Making Decisions)\n",
        "The if, elif (else if), and else statements allow your program to execute different code blocks based on certain conditions. Indentation (the space at the beginning of the lines) is crucial in Python; it defines the code blocks."
      ],
      "metadata": {
        "id": "cTQPQUUEBwpv"
      }
    },
    {
      "cell_type": "code",
      "source": [
        "score = int(input(\"Enter your exam score (0-100): \"))\n",
        "\n",
        "if score >= 90:\n",
        "    grade = \"A\"\n",
        "    print(\"Excellent work!\")\n",
        "elif score >= 80:\n",
        "    grade = \"B\"\n",
        "elif score >= 70:\n",
        "    grade = \"C\"\n",
        "else:\n",
        "    grade = \"D\"\n",
        "    print(\"Please see the instructor to discuss your score.\")\n",
        "\n",
        "print(f\"Your grade is: {grade}\")"
      ],
      "metadata": {
        "colab": {
          "base_uri": "https://localhost:8080/"
        },
        "id": "cpRaPJlnBuTk",
        "outputId": "2d7cb665-110b-47ac-8e1e-4177e95c0e37"
      },
      "execution_count": 4,
      "outputs": [
        {
          "output_type": "stream",
          "name": "stdout",
          "text": [
            "Enter your exam score (0-100): 59\n",
            "Please see the instructor to discuss your score.\n",
            "Your grade is: D\n"
          ]
        }
      ]
    },
    {
      "cell_type": "markdown",
      "source": [
        "## 5. Loops (Repeating Actions)\n",
        "Loops are used to repeat a block of code.\n",
        "\n",
        "for loop: Repeats for each item in a sequence.\n",
        "\n",
        "while loop: Repeats as long as a condition is true."
      ],
      "metadata": {
        "id": "RWRuMmUJB4LU"
      }
    },
    {
      "cell_type": "code",
      "source": [
        "# A 'for' loop iterates over a sequence. range(1, 6) generates numbers 1, 2, 3, 4, 5.\n",
        "print(\"Counting with a for loop:\")\n",
        "for number in range(1, 6):\n",
        "    print(number)\n",
        "\n",
        "# A 'while' loop continues as long as its condition is true.\n",
        "print(\"\\nCounting with a while loop:\")\n",
        "count = 1\n",
        "while count <= 5:\n",
        "    print(count)\n",
        "    count = count + 1 # It's critical to change the condition to avoid an infinite loop."
      ],
      "metadata": {
        "colab": {
          "base_uri": "https://localhost:8080/"
        },
        "id": "EeKe1x8nB6IG",
        "outputId": "0cafe962-3710-423f-ea39-3748d9544112"
      },
      "execution_count": 5,
      "outputs": [
        {
          "output_type": "stream",
          "name": "stdout",
          "text": [
            "Counting with a for loop:\n",
            "1\n",
            "2\n",
            "3\n",
            "4\n",
            "5\n",
            "\n",
            "Counting with a while loop:\n",
            "1\n",
            "2\n",
            "3\n",
            "4\n",
            "5\n"
          ]
        }
      ]
    },
    {
      "cell_type": "markdown",
      "source": [
        "## 6. Functions (Reusable Code)\n",
        "Functions are named blocks of code that perform a specific task. They help organize code and make it reusable."
      ],
      "metadata": {
        "id": "GBRV6J9GB-AM"
      }
    },
    {
      "cell_type": "code",
      "source": [
        "# 'def' is used to define a function.\n",
        "# 'name' is a parameter (an input to the function).\n",
        "def greet(name):\n",
        "    \"\"\"\n",
        "    This is a docstring. It explains what the function does.\n",
        "    It takes a name and returns a personalized greeting.\n",
        "    \"\"\"\n",
        "    return f\"Hello, {name}! Welcome to the course.\"\n",
        "\n",
        "# Calling the function and printing its return value.\n",
        "message = greet(\"Maria\")\n",
        "print(message)\n",
        "\n",
        "message_for_david = greet(\"David\")\n",
        "print(message_for_david)"
      ],
      "metadata": {
        "colab": {
          "base_uri": "https://localhost:8080/"
        },
        "id": "l_tCn-YjCCA2",
        "outputId": "bf06e044-27f6-4e6e-e38d-ac54efe1af49"
      },
      "execution_count": 6,
      "outputs": [
        {
          "output_type": "stream",
          "name": "stdout",
          "text": [
            "Hello, Maria! Welcome to the course.\n",
            "Hello, David! Welcome to the course.\n"
          ]
        }
      ]
    },
    {
      "cell_type": "markdown",
      "source": [
        "# Part 2: Introduction to Object-Oriented Programming (OOP)\n",
        "OOP is a programming paradigm that uses \"objects\" to design applications. An object has attributes (data) and methods (behaviors).\n",
        "\n",
        "## 1. Classes and Objects: The Blueprint\n",
        "A class is a blueprint for creating objects. An object (or instance) is a specific creation based on that blueprint.\n",
        "\n",
        "The __init__ method is a special method called a constructor. It runs when an object is created and is used to initialize the object's attributes. The self keyword refers to the specific instance of the object being created."
      ],
      "metadata": {
        "id": "X4VU1J4NCE41"
      }
    },
    {
      "cell_type": "code",
      "source": [
        "# A class is a blueprint for creating objects.\n",
        "class Dog:\n",
        "    # The constructor method initializes the object's attributes.\n",
        "    def __init__(self, name, age):\n",
        "        # These are attributes (instance variables).\n",
        "        self.name = name\n",
        "        self.age = age\n",
        "        print(f\"A new dog named {self.name} has been created!\")\n",
        "\n",
        "    # This is a method (a function that belongs to an object).\n",
        "    def bark(self):\n",
        "        return \"Woof! Woof!\"\n",
        "\n",
        "# Instantiation: Creating objects (instances) from the Dog class.\n",
        "dog1 = Dog(\"Rex\", 4)\n",
        "dog2 = Dog(\"Lucy\", 2)\n",
        "\n",
        "# Accessing attributes and calling methods using dot notation.\n",
        "print(f\"{dog1.name} is {dog1.age} years old.\")\n",
        "print(f\"{dog1.name} says: {dog1.bark()}\")\n",
        "\n",
        "print(f\"{dog2.name} is {dog2.age} years old.\")"
      ],
      "metadata": {
        "colab": {
          "base_uri": "https://localhost:8080/"
        },
        "id": "uW2QFUGUCQM2",
        "outputId": "1586ae65-5f79-4864-eaa4-e5a28e269b93"
      },
      "execution_count": 7,
      "outputs": [
        {
          "output_type": "stream",
          "name": "stdout",
          "text": [
            "A new dog named Rex has been created!\n",
            "A new dog named Lucy has been created!\n",
            "Rex is 4 years old.\n",
            "Rex says: Woof! Woof!\n",
            "Lucy is 2 years old.\n"
          ]
        }
      ]
    },
    {
      "cell_type": "markdown",
      "source": [
        "## 2. Inheritance: The \"Is-A\" Relationship\n",
        "Inheritance allows a new class (the child) to inherit attributes and methods from an existing class (the parent). This promotes code reuse and establishes a logical hierarchy."
      ],
      "metadata": {
        "id": "EmYFMMYBCTB7"
      }
    },
    {
      "cell_type": "code",
      "source": [
        "# Parent class (or superclass)\n",
        "class Animal:\n",
        "    def __init__(self, name):\n",
        "        self.name = name\n",
        "\n",
        "    def eat(self):\n",
        "        return f\"{self.name} is eating.\"\n",
        "\n",
        "    def speak(self):\n",
        "        # A generic implementation\n",
        "        return f\"{self.name} makes a sound.\"\n",
        "\n",
        "# Child class (or subclass)\n",
        "# Dog inherits from Animal by putting Animal in parentheses.\n",
        "class Cat(Animal):\n",
        "    # This is method overriding: providing a specific implementation\n",
        "    # for a method that is already defined in the parent class.\n",
        "    def speak(self):\n",
        "        return \"Meow!\"\n",
        "\n",
        "class Cow(Animal):\n",
        "    def speak(self):\n",
        "        return \"Moo!\"\n",
        "\n",
        "# A Cat object has access to its own methods and its parent's methods.\n",
        "my_cat = Cat(\"Whiskers\")\n",
        "print(my_cat.eat())   # Inherited from Animal\n",
        "print(my_cat.speak()) # Overridden in Cat\n",
        "\n",
        "my_cow = Cow(\"Bessie\")\n",
        "print(my_cow.eat())   # Inherited from Animal\n",
        "print(my_cow.speak()) # Overridden in Cow"
      ],
      "metadata": {
        "colab": {
          "base_uri": "https://localhost:8080/"
        },
        "id": "nYOsl8tTCVx_",
        "outputId": "c419bbc7-fb05-46cf-e4a6-69b2cd0bce03"
      },
      "execution_count": 8,
      "outputs": [
        {
          "output_type": "stream",
          "name": "stdout",
          "text": [
            "Whiskers is eating.\n",
            "Meow!\n",
            "Bessie is eating.\n",
            "Moo!\n"
          ]
        }
      ]
    },
    {
      "cell_type": "markdown",
      "source": [
        "## 3. Polymorphism: \"Many Forms\"\n",
        "Polymorphism allows us to treat objects of different classes as if they were objects of a common parent class. The same method call will behave differently depending on the object that calls it."
      ],
      "metadata": {
        "id": "ToSR45oHCzHt"
      }
    },
    {
      "cell_type": "code",
      "source": [
        "# We can create a list of different Animal objects.\n",
        "animals = [Cat(\"Whiskers\"), Cow(\"Bessie\"), Dog(\"Rex\", 4)] # Using our Dog class from before\n",
        "\n",
        "# We can loop through the list and call the same method on each object.\n",
        "# Python automatically calls the correct version of the speak() method\n",
        "# for each object, demonstrating polymorphism.\n",
        "for animal in animals:\n",
        "    print(f\"{animal.name} says: {animal.speak()}\")"
      ],
      "metadata": {
        "colab": {
          "base_uri": "https://localhost:8080/"
        },
        "id": "Kgz57KHOC0tt",
        "outputId": "0bc1798c-b69e-4dd9-f56c-4b55989f0ffe"
      },
      "execution_count": 10,
      "outputs": [
        {
          "output_type": "stream",
          "name": "stdout",
          "text": [
            "Whiskers says: Meow!\n",
            "Bessie says: Moo!\n",
            "Rex says: Woof! Woof!\n"
          ]
        }
      ]
    },
    {
      "cell_type": "markdown",
      "source": [
        "*Note*: For the above code to run, the Dog class would need to be updated to inherit from `Animal` and have its own speak method."
      ],
      "metadata": {
        "id": "cLhqQBWMC3xJ"
      }
    },
    {
      "cell_type": "code",
      "source": [
        "class Dog(Animal):\n",
        "    # The constructor for the child class\n",
        "    def __init__(self, name, age):\n",
        "        # Call the parent class's constructor\n",
        "        super().__init__(name)\n",
        "        self.age = age\n",
        "\n",
        "    def speak(self):\n",
        "        return \"Woof! Woof!\""
      ],
      "metadata": {
        "id": "xawy7MXkDFx1"
      },
      "execution_count": 11,
      "outputs": []
    }
  ]
}