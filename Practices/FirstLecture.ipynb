{
  "nbformat": 4,
  "nbformat_minor": 0,
  "metadata": {
    "colab": {
      "provenance": [],
      "authorship_tag": "ABX9TyOmVdK+bCK9lEgy8LCCqb+Y",
      "include_colab_link": true
    },
    "kernelspec": {
      "name": "python3",
      "display_name": "Python 3"
    },
    "language_info": {
      "name": "python"
    }
  },
  "cells": [
    {
      "cell_type": "markdown",
      "metadata": {
        "id": "view-in-github",
        "colab_type": "text"
      },
      "source": [
        "<a href=\"https://colab.research.google.com/github/arafatro/Python-Bachelor/blob/main/Practices/FirstLecture.ipynb\" target=\"_parent\"><img src=\"https://colab.research.google.com/assets/colab-badge.svg\" alt=\"Open In Colab\"/></a>"
      ]
    },
    {
      "cell_type": "markdown",
      "source": [
        "#Part 1: Talking to Your Computer"
      ],
      "metadata": {
        "id": "qcbKHRxeHf3J"
      }
    },
    {
      "cell_type": "code",
      "execution_count": 1,
      "metadata": {
        "colab": {
          "base_uri": "https://localhost:8080/"
        },
        "id": "QP2mjVs2HXF-",
        "outputId": "52cb729f-bb7f-4912-f371-fa06fa072595"
      },
      "outputs": [
        {
          "output_type": "stream",
          "name": "stdout",
          "text": [
            "Hello, World!\n"
          ]
        }
      ],
      "source": [
        "print(\"Hello, World!\")"
      ]
    },
    {
      "cell_type": "markdown",
      "source": [
        "# A variable named 'greeting' storing a string"
      ],
      "metadata": {
        "id": "uaD8_sHDHjRN"
      }
    },
    {
      "cell_type": "code",
      "source": [
        "greeting = \"Welcome to CS!\"\n",
        "print(greeting)"
      ],
      "metadata": {
        "colab": {
          "base_uri": "https://localhost:8080/"
        },
        "id": "F3l-2Nn0Hl1P",
        "outputId": "6d9d1551-3fb7-4594-d191-eb70ed00e732"
      },
      "execution_count": 2,
      "outputs": [
        {
          "output_type": "stream",
          "name": "stdout",
          "text": [
            "Welcome to CS!\n"
          ]
        }
      ]
    },
    {
      "cell_type": "markdown",
      "source": [
        "# A variable named 'student_count' storing an integer"
      ],
      "metadata": {
        "id": "jhCKLFXgHokY"
      }
    },
    {
      "cell_type": "code",
      "source": [
        "student_count = 85\n",
        "print(student_count)\n",
        "\n",
        "name = \"Alice\"\n",
        "age = 28\n",
        "print (name, \"is\", age, \"years old.\")"
      ],
      "metadata": {
        "colab": {
          "base_uri": "https://localhost:8080/"
        },
        "id": "y-8Q6bmmHp2V",
        "outputId": "8af6a2de-a58e-4484-ce5b-0685ddcd76fa"
      },
      "execution_count": 3,
      "outputs": [
        {
          "output_type": "stream",
          "name": "stdout",
          "text": [
            "85\n",
            "Alice is 28 years old.\n"
          ]
        }
      ]
    },
    {
      "cell_type": "markdown",
      "source": [
        "#Input with input()"
      ],
      "metadata": {
        "id": "TzM46RheHvqa"
      }
    },
    {
      "cell_type": "code",
      "source": [
        "name = input(\"What is your name? \")\n",
        "print(\"Hello, \" + name + \"!\")"
      ],
      "metadata": {
        "colab": {
          "base_uri": "https://localhost:8080/"
        },
        "id": "5LuTA29zHwOv",
        "outputId": "220cd4c3-1f38-4d5c-e05b-eb88de174991"
      },
      "execution_count": 4,
      "outputs": [
        {
          "output_type": "stream",
          "name": "stdout",
          "text": [
            "What is your name? Arafat\n",
            "Hello, Arafat!\n"
          ]
        }
      ]
    },
    {
      "cell_type": "markdown",
      "source": [
        "#Part 2: Making Decisions"
      ],
      "metadata": {
        "id": "o1GbaWicH0s2"
      }
    },
    {
      "cell_type": "code",
      "source": [
        "#The if Statement\n",
        "age_str = input(\"How old are you? \")\n",
        "age = int(age_str) # Type casting the string to an integer\n",
        "if age >= 18:\n",
        "    print(\"You are an adult.\")\n",
        "\n",
        "#The else and elif Statements\n",
        "age_str = input(\"How old are you? \")\n",
        "age = int(age_str)\n",
        "\n",
        "if age >= 65:\n",
        "    print(\"You are a senior citizen.\")\n",
        "elif age >= 18:\n",
        "    print(\"You are an adult.\")\n",
        "else:\n",
        "    print(\"You are a minor.\")"
      ],
      "metadata": {
        "colab": {
          "base_uri": "https://localhost:8080/"
        },
        "id": "wjCtoH1VH1Ql",
        "outputId": "d0792478-ccbc-4dfd-afb7-c6eda00216e5"
      },
      "execution_count": 5,
      "outputs": [
        {
          "output_type": "stream",
          "name": "stdout",
          "text": [
            "How old are you? 45\n",
            "You are an adult.\n",
            "How old are you? 34\n",
            "You are an adult.\n"
          ]
        }
      ]
    },
    {
      "cell_type": "markdown",
      "source": [
        "#Part 3: Repeating Actions"
      ],
      "metadata": {
        "id": "bm32JcQ2ID_m"
      }
    },
    {
      "cell_type": "code",
      "source": [
        "#The while Loop\n",
        "count = 1\n",
        "while count <= 5:\n",
        "    print(count)\n",
        "    count = count + 1 # Crucial! This step moves us closer to the end.\n",
        "\n",
        "#The for Loop\n",
        "# This does the exact same thing as the while loop above\n",
        "for number in range(1, 6):\n",
        "    print(number)"
      ],
      "metadata": {
        "colab": {
          "base_uri": "https://localhost:8080/"
        },
        "id": "QoHD2En7ICUc",
        "outputId": "59aca37f-1bfd-41da-e18d-524354acd9c3"
      },
      "execution_count": 6,
      "outputs": [
        {
          "output_type": "stream",
          "name": "stdout",
          "text": [
            "1\n",
            "2\n",
            "3\n",
            "4\n",
            "5\n",
            "1\n",
            "2\n",
            "3\n",
            "4\n",
            "5\n"
          ]
        }
      ]
    },
    {
      "cell_type": "markdown",
      "source": [
        "#Putting It All Together: A Number Guessing Game"
      ],
      "metadata": {
        "id": "4bpMEZLaIJns"
      }
    },
    {
      "cell_type": "code",
      "source": [
        "# We need to import the 'random' module to generate random numbers\n",
        "import random\n",
        "\n",
        "# # Generate a random integer between 1 and 10\n",
        "secret_number = random.randint(1, 10)\n",
        "\n",
        "print(\"I'm thinking of a number between 1 and 10.\")\n",
        "\n",
        "# This loop will run forever until we explicitly 'break' out of it\n",
        "while True:\n",
        "    guess_str = input(\"What's your guess? \")\n",
        "    guess = int(guess_str)\n",
        "\n",
        "    if guess < secret_number:\n",
        "        print(\"Too low! Try again.\")\n",
        "    elif guess > secret_number:\n",
        "        print(\"Too high! Try again.\")\n",
        "    else:\n",
        "        print(\"You got it! The number was\", secret_number)\n",
        "        break # This keyword exits the loop immediately"
      ],
      "metadata": {
        "colab": {
          "base_uri": "https://localhost:8080/"
        },
        "id": "GHtvB7DYIM4E",
        "outputId": "5a5809ff-9bc7-491e-8805-2c58c6a79b70"
      },
      "execution_count": 7,
      "outputs": [
        {
          "output_type": "stream",
          "name": "stdout",
          "text": [
            "I'm thinking of a number between 1 and 10.\n",
            "What's your guess? 4\n",
            "Too low! Try again.\n",
            "What's your guess? 6\n",
            "Too low! Try again.\n",
            "What's your guess? 3\n",
            "Too low! Try again.\n",
            "What's your guess? 2\n",
            "Too low! Try again.\n",
            "What's your guess? 9\n",
            "Too high! Try again.\n",
            "What's your guess? 1\n",
            "Too low! Try again.\n",
            "What's your guess? 10\n",
            "Too high! Try again.\n",
            "What's your guess? 7\n",
            "You got it! The number was 7\n"
          ]
        }
      ]
    }
  ]
}